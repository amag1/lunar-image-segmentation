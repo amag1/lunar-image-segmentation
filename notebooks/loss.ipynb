{
 "cells": [
  {
   "cell_type": "code",
   "execution_count": 9,
   "id": "f2169f2b",
   "metadata": {},
   "outputs": [
    {
     "name": "stdout",
     "output_type": "stream",
     "text": [
      "0.0\n",
      "7.827256944444444\n"
     ]
    }
   ],
   "source": [
    "import cv2\n",
    "from loss import pixel_difference_percentage\n",
    "mask_path = \"dataset/images/ground/ground0001.png\"\n",
    "mask = cv2.imread(mask_path)\n",
    "\n",
    "print(pixel_difference_percentage(mask, mask))\n",
    "\n",
    "mask2 = cv2.imread(\"dataset/images/ground/ground9763.png\")\n",
    "print(pixel_difference_percentage(mask, mask2))\n",
    "\n"
   ]
  }
 ],
 "metadata": {
  "kernelspec": {
   "display_name": "venv",
   "language": "python",
   "name": "python3"
  },
  "language_info": {
   "codemirror_mode": {
    "name": "ipython",
    "version": 3
   },
   "file_extension": ".py",
   "mimetype": "text/x-python",
   "name": "python",
   "nbconvert_exporter": "python",
   "pygments_lexer": "ipython3",
   "version": "3.12.9"
  }
 },
 "nbformat": 4,
 "nbformat_minor": 5
}
